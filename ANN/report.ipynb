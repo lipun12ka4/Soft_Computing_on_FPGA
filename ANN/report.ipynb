{
 "cells": [
  {
   "cell_type": "code",
   "execution_count": 1,
   "metadata": {
    "collapsed": false
   },
   "outputs": [
    {
     "data": {
      "text/plain": [
       "'0.19.2'"
      ]
     },
     "execution_count": 1,
     "metadata": {},
     "output_type": "execute_result"
    }
   ],
   "source": [
    "import pandas as pd\n",
    "import numpy as np\n",
    "import matplotlib.pyplot as plt\n",
    "pd.__version__"
   ]
  },
  {
   "cell_type": "code",
   "execution_count": 2,
   "metadata": {
    "collapsed": true
   },
   "outputs": [],
   "source": [
    "%matplotlib inline"
   ]
  },
  {
   "cell_type": "code",
   "execution_count": 3,
   "metadata": {
    "collapsed": false
   },
   "outputs": [
    {
     "data": {
      "text/html": [
       "<div>\n",
       "<table border=\"1\" class=\"dataframe\">\n",
       "  <thead>\n",
       "    <tr style=\"text-align: right;\">\n",
       "      <th></th>\n",
       "      <th>Resource</th>\n",
       "      <th>Utilization</th>\n",
       "      <th>Available</th>\n",
       "      <th>Utilization %</th>\n",
       "    </tr>\n",
       "  </thead>\n",
       "  <tbody>\n",
       "    <tr>\n",
       "      <th>0</th>\n",
       "      <td>LUT</td>\n",
       "      <td>7078</td>\n",
       "      <td>203800</td>\n",
       "      <td>3.473013</td>\n",
       "    </tr>\n",
       "    <tr>\n",
       "      <th>1</th>\n",
       "      <td>LUTRAM</td>\n",
       "      <td>32</td>\n",
       "      <td>64000</td>\n",
       "      <td>0.050000</td>\n",
       "    </tr>\n",
       "    <tr>\n",
       "      <th>2</th>\n",
       "      <td>FF</td>\n",
       "      <td>5726</td>\n",
       "      <td>407600</td>\n",
       "      <td>1.404809</td>\n",
       "    </tr>\n",
       "    <tr>\n",
       "      <th>3</th>\n",
       "      <td>BRAM</td>\n",
       "      <td>6</td>\n",
       "      <td>445</td>\n",
       "      <td>1.348315</td>\n",
       "    </tr>\n",
       "    <tr>\n",
       "      <th>4</th>\n",
       "      <td>DSP</td>\n",
       "      <td>32</td>\n",
       "      <td>840</td>\n",
       "      <td>3.809524</td>\n",
       "    </tr>\n",
       "  </tbody>\n",
       "</table>\n",
       "</div>"
      ],
      "text/plain": [
       "  Resource  Utilization  Available  Utilization %\n",
       "0      LUT         7078     203800       3.473013\n",
       "1   LUTRAM           32      64000       0.050000\n",
       "2       FF         5726     407600       1.404809\n",
       "3     BRAM            6        445       1.348315\n",
       "4      DSP           32        840       3.809524"
      ]
     },
     "execution_count": 3,
     "metadata": {},
     "output_type": "execute_result"
    }
   ],
   "source": [
    "utilization=pd.read_excel(\"UtilizationTable.xlsx\")\n",
    "utilization.head()"
   ]
  },
  {
   "cell_type": "code",
   "execution_count": 48,
   "metadata": {
    "collapsed": false
   },
   "outputs": [
    {
     "name": "stdout",
     "output_type": "stream",
     "text": [
      "  Resource  Utilization  Available  Utilization %\n",
      "0      LUT         7078     203800       3.473013\n",
      "1   LUTRAM           32      64000       0.050000\n",
      "2       FF         5726     407600       1.404809\n",
      "3     BRAM            6        445       1.348315\n",
      "4      DSP           32        840       3.809524\n",
      "5       IO          165        400      41.250000\n",
      "6     BUFG            3         32       9.375000\n"
     ]
    }
   ],
   "source": [
    "print(utilization.to_string())"
   ]
  },
  {
   "cell_type": "code",
   "execution_count": 49,
   "metadata": {
    "collapsed": false
   },
   "outputs": [
    {
     "name": "stdout",
     "output_type": "stream",
     "text": [
      "  Resource  Utilization %\n",
      "0      LUT       3.473013\n",
      "1   LUTRAM       0.050000\n",
      "2       FF       1.404809\n",
      "3     BRAM       1.348315\n",
      "4      DSP       3.809524\n",
      "5       IO      41.250000\n",
      "6     BUFG       9.375000\n"
     ]
    }
   ],
   "source": [
    "UtilPercent = utilization[['Resource','Utilization %']]\n",
    "print(UtilPercent.to_string())"
   ]
  },
  {
   "cell_type": "code",
   "execution_count": 12,
   "metadata": {
    "collapsed": false
   },
   "outputs": [
    {
     "name": "stdout",
     "output_type": "stream",
     "text": [
      "0       LUT\n",
      "1    LUTRAM\n",
      "2        FF\n",
      "3      BRAM\n",
      "4       DSP\n",
      "5        IO\n",
      "6      BUFG\n",
      "Name: Resource, dtype: object\n"
     ]
    }
   ],
   "source": [
    "x_labels = UtilPercent.Resource\n",
    "print(x_labels)"
   ]
  },
  {
   "cell_type": "code",
   "execution_count": 43,
   "metadata": {
    "collapsed": false
   },
   "outputs": [
    {
     "data": {
      "text/plain": [
       "[<matplotlib.text.Text at 0x71a2990>,\n",
       " <matplotlib.text.Text at 0x12d9090>,\n",
       " <matplotlib.text.Text at 0x738ba70>,\n",
       " <matplotlib.text.Text at 0x7359db0>,\n",
       " <matplotlib.text.Text at 0x7359ed0>,\n",
       " <matplotlib.text.Text at 0x73598b0>,\n",
       " <matplotlib.text.Text at 0x72a76b0>]"
      ]
     },
     "execution_count": 43,
     "metadata": {},
     "output_type": "execute_result"
    },
    {
     "data": {
      "text/plain": [
       "<matplotlib.figure.Figure at 0x72b4810>"
      ]
     },
     "metadata": {},
     "output_type": "display_data"
    },
    {
     "data": {
      "image/png": "[encoded data removed]",
      "text/plain": [
       "<matplotlib.figure.Figure at 0x72b4dd0>"
      ]
     },
     "metadata": {},
     "output_type": "display_data"
    }
   ],
   "source": [
    "plt.figure(figsize=(12, 8))\n",
    "ax = UtilPercent.plot(kind='bar')\n",
    "ax.set_title(\"Utilization Report\")\n",
    "ax.set_xlabel(\"Resources\")\n",
    "ax.set_ylabel(\"Percent of Utilization\")\n",
    "ax.set_xticklabels(x_labels)"
   ]
  },
  {
   "cell_type": "code",
   "execution_count": 54,
   "metadata": {
    "collapsed": false
   },
   "outputs": [
    {
     "name": "stdout",
     "output_type": "stream",
     "text": [
      "  Resource  Utilization %     Free %\n",
      "0      LUT       3.473013  96.526987\n",
      "1   LUTRAM       0.050000  99.950000\n",
      "2       FF       1.404809  98.595191\n",
      "3     BRAM       1.348315  98.651685\n",
      "4      DSP       3.809524  96.190476\n",
      "5       IO      41.250000  58.750000\n",
      "6     BUFG       9.375000  90.625000\n"
     ]
    },
    {
     "name": "stderr",
     "output_type": "stream",
     "text": [
      "C:\\Python\\Python36-32\\lib\\site-packages\\ipykernel\\__main__.py:1: SettingWithCopyWarning: \n",
      "A value is trying to be set on a copy of a slice from a DataFrame.\n",
      "Try using .loc[row_indexer,col_indexer] = value instead\n",
      "\n",
      "See the caveats in the documentation: http://pandas.pydata.org/pandas-docs/stable/indexing.html#indexing-view-versus-copy\n",
      "  if __name__ == '__main__':\n"
     ]
    }
   ],
   "source": [
    "UtilPercent['Free %'] = UtilPercent['Utilization %'].apply(lambda x: 100 - x)\n",
    "print(UtilPercent.to_string())"
   ]
  },
  {
   "cell_type": "code",
   "execution_count": 2,
   "metadata": {
    "collapsed": true
   },
   "outputs": [
    {
     "ename": "NameError",
     "evalue": "name 'UtilPercent' is not defined",
     "traceback": [
      "\u001b[0;31m---------------------------------------------------------------------------\u001b[0m",
      "\u001b[0;31mNameError\u001b[0m                                 Traceback (most recent call last)",
      "\u001b[0;32m<ipython-input-2-3f2c2427ec80>\u001b[0m in \u001b[0;36m<module>\u001b[0;34m()\u001b[0m\n\u001b[1;32m      1\u001b[0m \u001b[0mplt\u001b[0m\u001b[1;33m.\u001b[0m\u001b[0mfigure\u001b[0m\u001b[1;33m(\u001b[0m\u001b[0mfigsize\u001b[0m\u001b[1;33m=\u001b[0m\u001b[1;33m(\u001b[0m\u001b[1;36m12\u001b[0m\u001b[1;33m,\u001b[0m \u001b[1;36m8\u001b[0m\u001b[1;33m)\u001b[0m\u001b[1;33m)\u001b[0m\u001b[1;33m\u001b[0m\u001b[0m\n\u001b[0;32m----> 2\u001b[0;31m \u001b[0max\u001b[0m \u001b[1;33m=\u001b[0m \u001b[0mUtilPercent\u001b[0m\u001b[1;33m.\u001b[0m\u001b[0mplot\u001b[0m\u001b[1;33m(\u001b[0m\u001b[0mkind\u001b[0m\u001b[1;33m=\u001b[0m\u001b[1;34m'barh'\u001b[0m\u001b[1;33m,\u001b[0m \u001b[0mstacked\u001b[0m\u001b[1;33m=\u001b[0m\u001b[1;32mTrue\u001b[0m\u001b[1;33m)\u001b[0m\u001b[1;33m\u001b[0m\u001b[0m\n\u001b[0m\u001b[1;32m      3\u001b[0m \u001b[0max\u001b[0m\u001b[1;33m.\u001b[0m\u001b[0mset_title\u001b[0m\u001b[1;33m(\u001b[0m\u001b[1;34m\"Utilization Report\"\u001b[0m\u001b[1;33m)\u001b[0m\u001b[1;33m\u001b[0m\u001b[0m\n\u001b[1;32m      4\u001b[0m \u001b[0max\u001b[0m\u001b[1;33m.\u001b[0m\u001b[0mset_ylabel\u001b[0m\u001b[1;33m(\u001b[0m\u001b[1;34m\"Resources\"\u001b[0m\u001b[1;33m)\u001b[0m\u001b[1;33m\u001b[0m\u001b[0m\n\u001b[1;32m      5\u001b[0m \u001b[0max\u001b[0m\u001b[1;33m.\u001b[0m\u001b[0mset_xlabel\u001b[0m\u001b[1;33m(\u001b[0m\u001b[1;34m\"Percent of Utilization\"\u001b[0m\u001b[1;33m)\u001b[0m\u001b[1;33m\u001b[0m\u001b[0m\n",
      "\u001b[0;31mNameError\u001b[0m: name 'UtilPercent' is not defined"
     ],
     "output_type": "error"
    }
   ],
   "source": [
    "plt.figure(figsize=(12, 8))\n",
    "ax = UtilPercent.plot(kind='barh', stacked=True)\n",
    "ax.set_title(\"Utilization Report\")\n",
    "ax.set_ylabel(\"Resources\")\n",
    "ax.set_xlabel(\"Percent of Utilization\")\n",
    "ax.set_yticklabels(x_labels)\n",
    "\n",
    "for i, v in enumerate(UtilPercent['Utilization %'].astype('float64').round(2)):\n",
    "    ax.text(v +3, i - .15, str(v) + ' %', color='black', fontweight='bold')"
   ]
  },
  {
   "cell_type": "code",
   "execution_count": null,
   "metadata": {
    "collapsed": true
   },
   "outputs": [],
   "source": [
    ""
   ]
  }
 ],
 "metadata": {
  "kernelspec": {
   "display_name": "Python 3",
   "language": "python",
   "name": "python3"
  },
  "language_info": {
   "codemirror_mode": {
    "name": "ipython",
    "version": 3.0
   },
   "file_extension": ".py",
   "mimetype": "text/x-python",
   "name": "python",
   "nbconvert_exporter": "python",
   "pygments_lexer": "ipython3",
   "version": "3.6.0"
  }
 },
 "nbformat": 4,
 "nbformat_minor": 0
}